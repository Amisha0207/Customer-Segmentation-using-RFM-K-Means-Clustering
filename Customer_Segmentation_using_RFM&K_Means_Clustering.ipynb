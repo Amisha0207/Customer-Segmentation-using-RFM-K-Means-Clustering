{
  "nbformat": 4,
  "nbformat_minor": 0,
  "metadata": {
    "colab": {
      "provenance": [],
      "gpuType": "T4"
    },
    "kernelspec": {
      "name": "python3",
      "display_name": "Python 3"
    },
    "language_info": {
      "name": "python"
    },
    "accelerator": "GPU"
  },
  "cells": [
    {
      "cell_type": "code",
      "execution_count": null,
      "metadata": {
        "id": "W1XLK0GV1dI0"
      },
      "outputs": [],
      "source": [
        "import pandas as pd\n",
        "import numpy as np\n",
        "import datetime as dt\n",
        "from sklearn.preprocessing import StandardScaler\n",
        "from sklearn.cluster import KMeans\n",
        "import plotly.graph_objects as go\n"
      ]
    },
    {
      "cell_type": "code",
      "source": [
        "\n",
        "# --- Step 1: Create Realistic Sample Data ---\n",
        "# In a real project, you would load your data here. For this example, we'll create it.\n",
        "print(\"Step 1: Simulating customer data...\")\n",
        "np.random.seed(42)\n",
        "num_customers = 500\n",
        "num_transactions = 2000\n",
        "\n",
        "customer_ids = np.arange(1, num_customers + 1)\n",
        "product_prices = np.random.uniform(10, 200, size=50)\n",
        "\n",
        "data = []\n",
        "for _ in range(num_transactions):\n",
        "    customer_id = np.random.choice(customer_ids)\n",
        "    transaction_date = dt.datetime(2025, 1, 1) + dt.timedelta(days=np.random.randint(0, 270))\n",
        "    price = np.random.choice(product_prices)\n",
        "    data.append([customer_id, transaction_date, price])\n",
        "\n",
        "df = pd.DataFrame(data, columns=['CustomerID', 'TransactionDate', 'Amount'])\n",
        "print(\"Sample data created successfully.\")\n",
        "print(df.head())\n",
        "\n"
      ],
      "metadata": {
        "id": "eV1e8Iex60Pc",
        "outputId": "2a53004d-524d-4d3c-c141-fcd7bfc44b16",
        "colab": {
          "base_uri": "https://localhost:8080/"
        }
      },
      "execution_count": null,
      "outputs": [
        {
          "output_type": "stream",
          "name": "stdout",
          "text": [
            "Step 1: Simulating customer data...\n",
            "Sample data created successfully.\n",
            "   CustomerID TransactionDate      Amount\n",
            "0         191      2025-08-06  182.770876\n",
            "1         162      2025-07-21  163.595496\n",
            "2         270      2025-08-03   93.628974\n",
            "3         213      2025-07-27   59.168197\n",
            "4         338      2025-02-22   79.608750\n"
          ]
        }
      ]
    },
    {
      "cell_type": "code",
      "source": [
        "# --- Step 2: Calculate Recency, Frequency, and Monetary (RFM) ---\n",
        "print(\"\\nStep 2: Calculating RFM values...\")\n",
        "# Set a snapshot date for analysis (e.g., the day after the last transaction)\n",
        "snapshot_date = df['TransactionDate'].max() + dt.timedelta(days=1)\n",
        "\n",
        "# Calculate RFM values for each customer\n",
        "rfm_df = df.groupby('CustomerID').agg({\n",
        "    'TransactionDate': lambda date: (snapshot_date - date.max()).days,\n",
        "    'CustomerID': 'count',\n",
        "    'Amount': 'sum'\n",
        "})\n",
        "\n",
        "# Rename columns for clarity\n",
        "rfm_df.rename(columns={'TransactionDate': 'Recency',\n",
        "                       'CustomerID': 'Frequency',\n",
        "                       'Amount': 'MonetaryValue'}, inplace=True)\n",
        "\n",
        "print(\"RFM values calculated.\")\n",
        "print(rfm_df.head())\n",
        "\n",
        "\n"
      ],
      "metadata": {
        "id": "qar9kN4I63vN",
        "outputId": "d228f474-de14-4e28-80f8-746d72a6eff6",
        "colab": {
          "base_uri": "https://localhost:8080/"
        }
      },
      "execution_count": null,
      "outputs": [
        {
          "output_type": "stream",
          "name": "stdout",
          "text": [
            "\n",
            "Step 2: Calculating RFM values...\n",
            "RFM values calculated.\n",
            "            Recency  Frequency  MonetaryValue\n",
            "CustomerID                                   \n",
            "1               227          1     193.470086\n",
            "2                17          5     517.317434\n",
            "3                55          5     442.374591\n",
            "4                50          5     538.244286\n",
            "5                10          8     483.964322\n"
          ]
        }
      ]
    },
    {
      "cell_type": "code",
      "source": [
        "# --- Step 3: Scale the Data and Apply K-Means Clustering ---\n",
        "print(\"\\nStep 3: Applying K-Means clustering...\")\n",
        "# Scale the data as K-Means is sensitive to the scale of features\n",
        "scaler = StandardScaler()\n",
        "rfm_scaled = scaler.fit_transform(rfm_df)\n",
        "\n",
        "# Determine the optimal number of clusters (e.g., using the elbow method, but we'll fix it at 4 for simplicity)\n",
        "num_clusters = 4\n",
        "kmeans = KMeans(n_clusters=num_clusters, init='k-means++', n_init=10, max_iter=300, random_state=42)\n",
        "rfm_df['Cluster'] = kmeans.fit_predict(rfm_scaled)\n",
        "print(f\"Customers segmented into {num_clusters} clusters.\")\n",
        "\n",
        "\n"
      ],
      "metadata": {
        "id": "-VNYb9Ub67j9",
        "outputId": "c76b8e1b-3959-486d-d81d-37ca1ffe66ae",
        "colab": {
          "base_uri": "https://localhost:8080/"
        }
      },
      "execution_count": null,
      "outputs": [
        {
          "output_type": "stream",
          "name": "stdout",
          "text": [
            "\n",
            "Step 3: Applying K-Means clustering...\n",
            "Customers segmented into 4 clusters.\n"
          ]
        }
      ]
    },
    {
      "cell_type": "code",
      "source": [
        "# --- Step 4: Analyze and Interpret the Clusters ---\n",
        "print(\"\\nStep 4: Analyzing cluster characteristics...\")\n",
        "# Calculate the average RFM values for each cluster\n",
        "cluster_analysis = rfm_df.groupby('Cluster').agg({\n",
        "    'Recency': 'mean',\n",
        "    'Frequency': 'mean',\n",
        "    'MonetaryValue': 'mean'\n",
        "}).round(1)\n",
        "\n",
        "print(cluster_analysis)\n",
        "\n",
        "# Assign meaningful names to the clusters based on their characteristics\n",
        "# Note: Cluster numbers might change on each run, but the logic remains the same.\n",
        "# We'll sort by MonetaryValue to create consistent labels.\n",
        "cluster_analysis_sorted = cluster_analysis.sort_values(by='MonetaryValue', ascending=False)\n",
        "\n",
        "cluster_map = {\n",
        "    cluster_analysis_sorted.index[0]: '01 - Champions (High Value)',\n",
        "    cluster_analysis_sorted.index[1]: '02 - Loyal Customers',\n",
        "    cluster_analysis_sorted.index[2]: '03 - At-Risk / Lapsing',\n",
        "    cluster_analysis_sorted.index[3]: '04 - Lost / Low Value'\n",
        "}\n",
        "\n",
        "rfm_df['Segment'] = rfm_df['Cluster'].map(cluster_map)\n",
        "print(\"\\nCustomer segments assigned.\")\n",
        "print(rfm_df.head())\n",
        "\n",
        "\n"
      ],
      "metadata": {
        "id": "wfte0yl86-Bt",
        "outputId": "81bd10b3-b029-4a0e-bd17-2bb25ecdf8af",
        "colab": {
          "base_uri": "https://localhost:8080/"
        }
      },
      "execution_count": null,
      "outputs": [
        {
          "output_type": "stream",
          "name": "stdout",
          "text": [
            "\n",
            "Step 4: Analyzing cluster characteristics...\n",
            "         Recency  Frequency  MonetaryValue\n",
            "Cluster                                   \n",
            "0          163.8        1.9          197.1\n",
            "1           50.6        4.6          438.0\n",
            "2           29.8        7.0          702.2\n",
            "3           49.3        2.7          223.9\n",
            "\n",
            "Customer segments assigned.\n",
            "            Recency  Frequency  MonetaryValue  Cluster  \\\n",
            "CustomerID                                               \n",
            "1               227          1     193.470086        0   \n",
            "2                17          5     517.317434        1   \n",
            "3                55          5     442.374591        1   \n",
            "4                50          5     538.244286        1   \n",
            "5                10          8     483.964322        2   \n",
            "\n",
            "                                Segment  \n",
            "CustomerID                               \n",
            "1                 04 - Lost / Low Value  \n",
            "2                  02 - Loyal Customers  \n",
            "3                  02 - Loyal Customers  \n",
            "4                  02 - Loyal Customers  \n",
            "5           01 - Champions (High Value)  \n"
          ]
        }
      ]
    },
    {
      "cell_type": "code",
      "source": [
        "# --- Step 5: Visualize the Customer Segments ---\n",
        "print(\"\\nStep 5: Generating 3D plot for visualization...\")\n",
        "fig = go.Figure()\n",
        "\n",
        "for segment_name in rfm_df['Segment'].unique():\n",
        "    segment_df = rfm_df[rfm_df['Segment'] == segment_name]\n",
        "    fig.add_trace(go.Scatter3d(\n",
        "        x=segment_df['Recency'],\n",
        "        y=segment_df['Frequency'],\n",
        "        z=segment_df['MonetaryValue'],\n",
        "        mode='markers',\n",
        "        marker=dict(size=5),\n",
        "        name=segment_name\n",
        "    ))\n",
        "\n",
        "fig.update_layout(\n",
        "    title='Customer Segments based on RFM (3D Scatter Plot)',\n",
        "    scene=dict(\n",
        "        xaxis_title='Recency (Days)',\n",
        "        yaxis_title='Frequency (Purchases)',\n",
        "        zaxis_title='Monetary Value ($)'\n",
        "    ),\n",
        "    margin=dict(l=0, r=0, b=0, t=40)\n",
        ")\n",
        "\n",
        "fig.show()"
      ],
      "metadata": {
        "id": "99TxvHCZ7Apl",
        "outputId": "16d70885-a0f7-43e3-bd0d-34d98d76e27a",
        "colab": {
          "base_uri": "https://localhost:8080/",
          "height": 577
        }
      },
      "execution_count": null,
      "outputs": [
        {
          "output_type": "stream",
          "name": "stdout",
          "text": [
            "\n",
            "Step 5: Generating 3D plot for visualization...\n"
          ]
        },
        {
          "output_type": "display_data",
          "data": {
            "text/html": [
              "<html>\n",
              "<head><meta charset=\"utf-8\" /></head>\n",
              "<body>\n",
              "    <div>            <script src=\"https://cdnjs.cloudflare.com/ajax/libs/mathjax/2.7.5/MathJax.js?config=TeX-AMS-MML_SVG\"></script><script type=\"text/javascript\">if (window.MathJax && window.MathJax.Hub && window.MathJax.Hub.Config) {window.MathJax.Hub.Config({SVG: {font: \"STIX-Web\"}});}</script>                <script type=\"text/javascript\">window.PlotlyConfig = {MathJaxConfig: 'local'};</script>\n",
              "        <script charset=\"utf-8\" src=\"https://cdn.plot.ly/plotly-2.35.2.min.js\"></script>                <div id=\"57411089-6f69-4912-a4f8-fb06c9204982\" class=\"plotly-graph-div\" style=\"height:525px; width:100%;\"></div>            <script type=\"text/javascript\">                                    window.PLOTLYENV=window.PLOTLYENV || {};                                    if (document.getElementById(\"57411089-6f69-4912-a4f8-fb06c9204982\")) {                    Plotly.newPlot(                        \"57411089-6f69-4912-a4f8-fb06c9204982\",                        [{\"marker\":{\"size\":5},\"mode\":\"markers\",\"name\":\"04 - Lost \\u002f Low Value\",\"x\":[227,109,189,137,160,126,253,113,228,199,122,184,193,206,109,113,121,183,158,155,220,175,203,127,184,145,124,189,267,187,133,131,197,174,145,107,213,163,121,170,119,134,142,124,119,141,115,229,187,134,218,124,136,206,132,180,131,135,112,206,239,149,134,178,232,194,131,165,217,193,138,138,162],\"y\":[1,1,5,2,2,4,1,1,1,1,2,1,2,2,2,1,3,3,2,3,2,2,3,1,2,1,3,2,1,1,1,2,2,4,2,1,1,1,1,1,3,3,2,3,3,1,2,1,1,3,3,4,1,2,2,2,2,1,3,1,1,2,3,1,2,1,2,2,2,2,1,2,3],\"z\":[193.47008628416629,193.47008628416629,574.1228249538101,90.26099076894597,111.62468795757347,236.26058743754749,44.84685687215242,149.07884894416696,144.53378978124863,140.0042750373098,110.20560966289756,108.81292402378405,260.23365529408215,300.00698955851095,163.25180942514456,59.16819650400321,269.0187968271967,120.13359189044249,239.40521846062904,432.66774593768315,189.54538886883762,137.65616591363943,198.80089673671947,28.557701661212935,298.3664848319203,194.2828719107789,318.1459431128248,84.19028545341206,44.84685687215242,39.6389588638785,182.77087639496858,131.17272669098716,283.3863917210217,516.5959730106938,294.41615174933224,168.16410175208014,149.07884894416696,182.77087639496858,108.81292402378405,124.21185223120968,253.40243592229965,318.8175525050581,93.51980414200389,356.78041371590643,353.3454735184549,193.47008628416629,251.99598085195666,69.22510445698808,44.54674376934912,333.15860343295554,189.662977216842,304.58869445208586,163.59549614212762,233.44883400756214,196.78276076263558,295.06266669192917,203.68526018956874,65.33353663762796,280.79240408524083,92.069553542002,21.035886311957896,178.27881752784197,394.17916387373157,144.53378978124863,189.54538886883762,159.18343266467258,233.6715849737716,383.7583383622996,130.8410198593194,185.9552988093307,67.87661614294043,153.51849475928606,238.56160695727073],\"type\":\"scatter3d\"},{\"marker\":{\"size\":5},\"mode\":\"markers\",\"name\":\"02 - Loyal Customers\",\"x\":[17,55,50,75,36,17,63,3,2,69,34,134,20,44,11,12,118,38,34,58,15,103,9,6,53,57,85,34,6,3,56,21,9,90,22,16,58,4,89,107,40,41,12,20,95,85,56,113,18,9,22,14,31,7,36,111,81,92,2,73,62,51,29,126,2,50,125,48,39,98,3,90,76,9,26,65,24,91,29,106,73,3,70,29,7,139,54,83,28,5,35,55,156,12,24,45,4,8,55,68,161,30,6,59,30,5,12,89,84,26,22,22,83,36,124,80,110,107,4,6,12,68,51,110,31,24,59,29,79,108,40,81,114,34,139,141,40,61,4,25,4,45,48,85,60,117,23,69,56,40,28,50,120,56,45,115,20,22,31,55,34,8,3,23,23,104,12,6,15,51,16,62,67,118,84,89,73,41,3,50],\"y\":[5,5,5,5,6,3,4,4,5,4,4,4,4,6,5,5,5,5,4,5,5,3,5,6,5,5,3,6,5,4,5,4,6,4,5,5,3,4,4,4,5,5,6,5,4,4,5,4,4,3,4,4,5,5,5,3,4,4,5,5,5,4,6,4,5,4,4,4,5,6,5,3,5,6,4,5,4,4,5,4,5,6,4,5,4,6,4,5,5,5,5,6,6,4,5,6,4,4,4,4,5,3,5,4,4,3,5,4,4,4,6,5,6,6,5,4,4,5,5,4,5,4,5,4,3,5,4,4,4,5,5,4,6,4,4,5,5,5,3,4,4,5,3,6,4,5,5,5,4,5,4,5,5,5,4,4,5,5,5,5,5,5,4,5,5,4,5,5,5,5,3,4,6,4,4,5,4,5,4,4],\"z\":[517.3174343309933,442.3745906117573,538.2442860792293,481.86816734101893,525.8739093483823,459.38136023034235,381.3159978911876,386.1356850529387,402.6321827087803,299.95529687786967,441.7503727708047,440.38444169661614,453.01376909284363,279.284307680816,490.1639520707409,595.2244781063894,371.4941278821782,532.1921985098838,355.9476743392748,564.2043834941135,474.83492106623305,394.3377045031359,427.70238374520375,442.816905592363,444.7165492151965,550.2783473300196,466.76930443641913,437.1129188153182,482.2899534290839,308.7963818651072,244.04908870082005,556.4345397569158,487.4002694311085,363.6574234443117,260.97190143757973,524.1967848699001,401.9642962740656,333.232075055767,369.0588066599222,639.9471044363606,546.5720956029754,426.48378032508185,484.7270687114243,304.1030326059597,518.3285930977651,438.63919656900566,369.4267534280687,332.69477693987835,644.1891744113198,467.308941213527,440.15262078806956,440.19959372647776,398.27383377791546,296.4600272679229,496.6396647720555,400.2779515534919,393.7370495236416,356.3588701359249,462.1701727927935,356.84636417343916,495.55052179542986,469.54902858285226,379.7858328084848,447.28576361109464,384.97506218164983,400.7164163521077,578.2344706422429,352.66721829527677,463.7009194810803,480.0268540069326,536.711967858952,431.59185283058423,667.6916045862338,496.66683201568816,308.4026353927894,549.2708777892035,432.5209627824556,445.3751176620302,344.74947201404905,490.2714221837078,654.8557970567881,375.86514320871896,469.50305601048,442.2525415792478,327.66586822569104,451.03318396329956,445.32118601522836,512.7072969369992,592.2466334155558,518.6691249138802,513.204763105362,439.59050538572376,355.56666909678495,377.3681454261176,523.4003779665022,433.9043103336945,520.9282108858158,437.20202075847584,463.13124955649175,315.79586043107554,549.7229529551682,407.47257668857657,267.66242708542694,466.4074134838496,380.19159693737834,418.58371723048435,560.876191764279,294.97073273748373,442.8511194477183,529.6473962841177,446.14574965770845,511.76808046776165,552.6798121010337,451.821323984187,650.6370529168299,323.9212284323164,337.2010502659441,444.71464215010656,323.87755353032094,488.29757081559404,335.4270950461631,339.97070101245004,512.8723395068032,432.2966782845328,495.51163616883287,627.5321602663432,493.5438518067575,361.84011119638075,318.01658323356247,480.2002309231254,476.80695851669844,437.0877626542889,370.0398137085425,391.1722941491067,505.10750300301925,544.3039352309252,239.883727862127,367.7473975448268,424.25679171883314,606.0839047280956,589.1043245675332,336.3578380010358,452.1746448787299,459.1163198711615,389.13127486071073,241.9401837821626,332.0373751252472,485.765527773257,476.8937291903902,398.3039844881708,453.7243120196198,420.5237814524589,309.4892477971545,472.4060953984751,510.02289192420375,346.39505798886444,450.7667613157558,489.974598161654,272.2476552262705,273.42224413780923,525.321506849642,527.9982220276349,355.4095054559616,516.0423307772979,301.38256751424456,520.9152437776711,489.0451704075883,404.1328352000619,433.8196533380191,234.09746636261815,402.3233738476839,532.3816027399594,395.4599084030145,305.15757175785626,454.3217570830681,374.4182217572752,358.19052951682204,585.802638504565,389.3296814868382,492.1796663122856],\"type\":\"scatter3d\"},{\"marker\":{\"size\":5},\"mode\":\"markers\",\"name\":\"01 - Champions (High Value)\",\"x\":[10,32,32,7,18,14,14,4,101,29,13,17,76,15,7,3,18,12,21,59,7,38,3,57,39,45,18,1,14,34,5,14,16,79,11,5,32,1,12,44,62,20,11,46,46,13,65,32,5,58,37,39,60,33,9,35,13,58,19,79,48,23,7,8,8,3,50,7,56,79,68,13,39,14,45,23,17,110,47,5,42,23,3,34,65,2,23,17,21,6,60,48,40],\"y\":[8,7,7,7,10,5,8,6,7,7,6,6,8,8,6,7,7,7,6,6,6,8,6,6,7,7,8,9,9,9,6,7,6,7,5,6,7,9,7,8,6,6,9,7,7,5,6,10,8,6,7,7,7,6,8,11,7,6,7,6,8,8,6,7,11,7,6,5,6,8,6,8,8,9,6,7,6,6,8,6,5,6,7,7,8,7,6,6,9,7,6,7,6],\"z\":[483.9643216403275,607.7205847813588,644.441108999079,601.4678324844333,912.0827858907383,735.7398418419037,688.44193156199,518.7047620821351,675.1608456532626,672.8303536876342,534.7332316079561,612.2260487026773,552.6972475460327,715.4758085034208,814.9655611217238,722.6646968540277,609.4025036791263,600.5812013029637,678.1111326306275,811.645121909127,758.6402118903904,835.3382031523104,702.1631046194788,652.3248377262139,488.57445469189906,880.5566951634964,445.80476728438083,959.0890933267762,771.4266518418117,850.0000592336817,701.5774732895266,1011.1467209938154,547.2242916703011,559.0517034427509,709.8925076523095,529.0433467985871,661.6420569240806,680.6457136904272,824.4235024542062,717.2429675603967,711.3553743136115,652.8838687218537,886.535501208776,942.853304108711,638.7315459300706,641.6020916064462,741.668850351196,893.1909743414972,608.5231164638535,702.678992063507,765.0291229046979,628.2021105206896,646.8855624013935,611.4805015690546,925.1784487929795,1054.9819319764545,650.3721939401959,574.8697666286827,792.3232615451684,639.0276070931661,571.3680185672007,879.0751417611623,576.1958987626197,593.1755446202184,765.2811623809108,561.7508369787778,707.453587498361,655.5050487151643,673.1521262910804,757.5952902127681,758.6869108029707,812.95436923867,549.399826588936,1022.2922767996068,569.1124592260072,697.3160740702821,802.4864568570235,657.5005565950087,687.4856771726274,588.6616659788964,665.8110102064611,617.9891414232835,772.0495433201355,831.3530370094132,736.0113569233592,715.8630682979797,565.4911194341757,572.7711486105635,835.3507128400307,825.1557804615708,684.5760088228394,806.7715138776116,600.9307323599505],\"type\":\"scatter3d\"},{\"marker\":{\"size\":5},\"mode\":\"markers\",\"name\":\"03 - At-Risk \\u002f Lapsing\",\"x\":[67,9,43,41,76,19,6,97,39,3,14,11,22,33,53,20,66,77,19,35,34,79,54,53,48,96,9,7,69,105,2,70,78,85,80,83,54,23,10,4,34,70,85,13,35,37,97,24,101,59,50,13,95,45,111,62,84,35,87,80,15,11,53,94,79,31,105,13,30,43,58,87,20,40,17,91,44,100,36,12,63,30,7,34,97,1,22,10,90,26,62,89,43,18,1,5,98,37,64,84,99,84,69,89,14,85,98,91,63,56,51,57,2,25,62,107,36,27,25,15,34,11,26,60,52,10,30,83,49,35,63,81,18,31,40,67,49,55,2,75,32,76],\"y\":[4,2,3,2,3,2,3,2,4,3,3,3,4,3,3,3,3,2,2,4,3,2,3,2,4,3,4,2,1,3,3,2,1,2,2,3,2,3,3,3,1,2,1,2,2,3,2,3,3,4,4,3,4,3,4,3,4,2,2,3,3,2,1,2,3,3,3,2,2,3,3,1,4,3,1,3,4,2,2,4,2,3,2,2,3,3,1,3,2,3,2,1,3,4,1,3,2,3,2,2,3,3,3,3,3,3,3,2,1,3,3,3,3,3,2,4,3,2,3,4,2,3,3,3,3,4,3,3,3,3,4,3,2,3,3,3,3,3,2,2,2,2],\"z\":[286.5051967464309,317.681938515376,316.22973062473153,219.193419879097,146.5580605149285,210.8166909226704,346.82634612733466,114.34745100683821,208.71052828612682,372.6575240295153,129.98114379473668,335.34484050403796,223.29800235025613,285.6038298685144,189.76542762314358,183.6699296456344,132.277863784292,243.20424636792904,303.09579593456294,286.2109892130682,317.42246935913226,107.52015782700337,388.3833340217608,380.9239702960174,283.0882585300096,309.5405439879977,252.11544354475097,157.39911685171765,159.18343266467258,338.73498527526573,321.0444903049987,84.76130541372864,113.87495307522313,170.11473525612485,262.13128402450866,247.75112154030995,87.52193005043553,241.5955838646662,351.2463672537565,205.89371935665042,109.70372201012519,266.64302123923966,45.122346549850135,210.56368525266555,84.79916700117079,345.4617867778594,73.68004821106307,250.2266850340948,254.6206243183243,268.2448534175296,273.8008354525265,198.14879780404573,144.0373038955455,271.5786024281923,244.2522142914322,195.64029055610365,230.0218541187797,183.10005753221122,284.95808297142355,293.52276979659587,137.56771428733634,97.69644159289037,113.87495307522313,166.61143573179507,343.6746712129785,311.637416718853,386.30815511853484,282.2780109958239,150.10412679917158,243.84284767839873,342.2834901968838,107.7045432985862,199.6870834040468,311.1320492137995,149.07884894416696,246.54510652682802,268.97441131060737,165.89100886113062,319.7221362814184,290.3751495873541,127.54676883588978,317.51402320974717,84.33984517420366,98.52080125813593,300.81100871925435,348.26396621527033,28.557701661212935,271.9880402821079,157.57703676369346,115.74842407771837,175.21120523181662,135.8792340272566,253.19139105043814,231.23529640714426,69.22510445698808,155.31692653037894,112.35276993166129,302.8966894307597,244.69215805104062,319.1072574784863,185.34970552757255,138.47238641689248,165.1488039622077,87.31561244956782,334.3628728230883,264.63691991653116,330.9266645585164,205.94450661722513,135.8792340272566,180.7122103463621,244.31413472350994,181.57787438864938,223.1834187166226,327.7374388178126,219.193419879097,150.95767950481493,294.6507715940397,191.58558663488006,236.46858501252981,229.83701133354037,270.2444684436855,123.11612147065291,294.44840716724156,306.4713689738826,287.0886812279653,192.70297648690706,267.9344240162295,293.4582872819647,154.24187300120457,302.7227428466962,236.89929877582256,226.87391576801372,170.79879376660122,88.24254585131342,241.571867752228,199.892177732244,131.24149597485547,229.712877024973,192.97021645442504,304.04333577933676,235.06497402103616,368.8563396080166],\"type\":\"scatter3d\"}],                        {\"template\":{\"data\":{\"histogram2dcontour\":[{\"type\":\"histogram2dcontour\",\"colorbar\":{\"outlinewidth\":0,\"ticks\":\"\"},\"colorscale\":[[0.0,\"#0d0887\"],[0.1111111111111111,\"#46039f\"],[0.2222222222222222,\"#7201a8\"],[0.3333333333333333,\"#9c179e\"],[0.4444444444444444,\"#bd3786\"],[0.5555555555555556,\"#d8576b\"],[0.6666666666666666,\"#ed7953\"],[0.7777777777777778,\"#fb9f3a\"],[0.8888888888888888,\"#fdca26\"],[1.0,\"#f0f921\"]]}],\"choropleth\":[{\"type\":\"choropleth\",\"colorbar\":{\"outlinewidth\":0,\"ticks\":\"\"}}],\"histogram2d\":[{\"type\":\"histogram2d\",\"colorbar\":{\"outlinewidth\":0,\"ticks\":\"\"},\"colorscale\":[[0.0,\"#0d0887\"],[0.1111111111111111,\"#46039f\"],[0.2222222222222222,\"#7201a8\"],[0.3333333333333333,\"#9c179e\"],[0.4444444444444444,\"#bd3786\"],[0.5555555555555556,\"#d8576b\"],[0.6666666666666666,\"#ed7953\"],[0.7777777777777778,\"#fb9f3a\"],[0.8888888888888888,\"#fdca26\"],[1.0,\"#f0f921\"]]}],\"heatmap\":[{\"type\":\"heatmap\",\"colorbar\":{\"outlinewidth\":0,\"ticks\":\"\"},\"colorscale\":[[0.0,\"#0d0887\"],[0.1111111111111111,\"#46039f\"],[0.2222222222222222,\"#7201a8\"],[0.3333333333333333,\"#9c179e\"],[0.4444444444444444,\"#bd3786\"],[0.5555555555555556,\"#d8576b\"],[0.6666666666666666,\"#ed7953\"],[0.7777777777777778,\"#fb9f3a\"],[0.8888888888888888,\"#fdca26\"],[1.0,\"#f0f921\"]]}],\"heatmapgl\":[{\"type\":\"heatmapgl\",\"colorbar\":{\"outlinewidth\":0,\"ticks\":\"\"},\"colorscale\":[[0.0,\"#0d0887\"],[0.1111111111111111,\"#46039f\"],[0.2222222222222222,\"#7201a8\"],[0.3333333333333333,\"#9c179e\"],[0.4444444444444444,\"#bd3786\"],[0.5555555555555556,\"#d8576b\"],[0.6666666666666666,\"#ed7953\"],[0.7777777777777778,\"#fb9f3a\"],[0.8888888888888888,\"#fdca26\"],[1.0,\"#f0f921\"]]}],\"contourcarpet\":[{\"type\":\"contourcarpet\",\"colorbar\":{\"outlinewidth\":0,\"ticks\":\"\"}}],\"contour\":[{\"type\":\"contour\",\"colorbar\":{\"outlinewidth\":0,\"ticks\":\"\"},\"colorscale\":[[0.0,\"#0d0887\"],[0.1111111111111111,\"#46039f\"],[0.2222222222222222,\"#7201a8\"],[0.3333333333333333,\"#9c179e\"],[0.4444444444444444,\"#bd3786\"],[0.5555555555555556,\"#d8576b\"],[0.6666666666666666,\"#ed7953\"],[0.7777777777777778,\"#fb9f3a\"],[0.8888888888888888,\"#fdca26\"],[1.0,\"#f0f921\"]]}],\"surface\":[{\"type\":\"surface\",\"colorbar\":{\"outlinewidth\":0,\"ticks\":\"\"},\"colorscale\":[[0.0,\"#0d0887\"],[0.1111111111111111,\"#46039f\"],[0.2222222222222222,\"#7201a8\"],[0.3333333333333333,\"#9c179e\"],[0.4444444444444444,\"#bd3786\"],[0.5555555555555556,\"#d8576b\"],[0.6666666666666666,\"#ed7953\"],[0.7777777777777778,\"#fb9f3a\"],[0.8888888888888888,\"#fdca26\"],[1.0,\"#f0f921\"]]}],\"mesh3d\":[{\"type\":\"mesh3d\",\"colorbar\":{\"outlinewidth\":0,\"ticks\":\"\"}}],\"scatter\":[{\"fillpattern\":{\"fillmode\":\"overlay\",\"size\":10,\"solidity\":0.2},\"type\":\"scatter\"}],\"parcoords\":[{\"type\":\"parcoords\",\"line\":{\"colorbar\":{\"outlinewidth\":0,\"ticks\":\"\"}}}],\"scatterpolargl\":[{\"type\":\"scatterpolargl\",\"marker\":{\"colorbar\":{\"outlinewidth\":0,\"ticks\":\"\"}}}],\"bar\":[{\"error_x\":{\"color\":\"#2a3f5f\"},\"error_y\":{\"color\":\"#2a3f5f\"},\"marker\":{\"line\":{\"color\":\"#E5ECF6\",\"width\":0.5},\"pattern\":{\"fillmode\":\"overlay\",\"size\":10,\"solidity\":0.2}},\"type\":\"bar\"}],\"scattergeo\":[{\"type\":\"scattergeo\",\"marker\":{\"colorbar\":{\"outlinewidth\":0,\"ticks\":\"\"}}}],\"scatterpolar\":[{\"type\":\"scatterpolar\",\"marker\":{\"colorbar\":{\"outlinewidth\":0,\"ticks\":\"\"}}}],\"histogram\":[{\"marker\":{\"pattern\":{\"fillmode\":\"overlay\",\"size\":10,\"solidity\":0.2}},\"type\":\"histogram\"}],\"scattergl\":[{\"type\":\"scattergl\",\"marker\":{\"colorbar\":{\"outlinewidth\":0,\"ticks\":\"\"}}}],\"scatter3d\":[{\"type\":\"scatter3d\",\"line\":{\"colorbar\":{\"outlinewidth\":0,\"ticks\":\"\"}},\"marker\":{\"colorbar\":{\"outlinewidth\":0,\"ticks\":\"\"}}}],\"scattermapbox\":[{\"type\":\"scattermapbox\",\"marker\":{\"colorbar\":{\"outlinewidth\":0,\"ticks\":\"\"}}}],\"scatterternary\":[{\"type\":\"scatterternary\",\"marker\":{\"colorbar\":{\"outlinewidth\":0,\"ticks\":\"\"}}}],\"scattercarpet\":[{\"type\":\"scattercarpet\",\"marker\":{\"colorbar\":{\"outlinewidth\":0,\"ticks\":\"\"}}}],\"carpet\":[{\"aaxis\":{\"endlinecolor\":\"#2a3f5f\",\"gridcolor\":\"white\",\"linecolor\":\"white\",\"minorgridcolor\":\"white\",\"startlinecolor\":\"#2a3f5f\"},\"baxis\":{\"endlinecolor\":\"#2a3f5f\",\"gridcolor\":\"white\",\"linecolor\":\"white\",\"minorgridcolor\":\"white\",\"startlinecolor\":\"#2a3f5f\"},\"type\":\"carpet\"}],\"table\":[{\"cells\":{\"fill\":{\"color\":\"#EBF0F8\"},\"line\":{\"color\":\"white\"}},\"header\":{\"fill\":{\"color\":\"#C8D4E3\"},\"line\":{\"color\":\"white\"}},\"type\":\"table\"}],\"barpolar\":[{\"marker\":{\"line\":{\"color\":\"#E5ECF6\",\"width\":0.5},\"pattern\":{\"fillmode\":\"overlay\",\"size\":10,\"solidity\":0.2}},\"type\":\"barpolar\"}],\"pie\":[{\"automargin\":true,\"type\":\"pie\"}]},\"layout\":{\"autotypenumbers\":\"strict\",\"colorway\":[\"#636efa\",\"#EF553B\",\"#00cc96\",\"#ab63fa\",\"#FFA15A\",\"#19d3f3\",\"#FF6692\",\"#B6E880\",\"#FF97FF\",\"#FECB52\"],\"font\":{\"color\":\"#2a3f5f\"},\"hovermode\":\"closest\",\"hoverlabel\":{\"align\":\"left\"},\"paper_bgcolor\":\"white\",\"plot_bgcolor\":\"#E5ECF6\",\"polar\":{\"bgcolor\":\"#E5ECF6\",\"angularaxis\":{\"gridcolor\":\"white\",\"linecolor\":\"white\",\"ticks\":\"\"},\"radialaxis\":{\"gridcolor\":\"white\",\"linecolor\":\"white\",\"ticks\":\"\"}},\"ternary\":{\"bgcolor\":\"#E5ECF6\",\"aaxis\":{\"gridcolor\":\"white\",\"linecolor\":\"white\",\"ticks\":\"\"},\"baxis\":{\"gridcolor\":\"white\",\"linecolor\":\"white\",\"ticks\":\"\"},\"caxis\":{\"gridcolor\":\"white\",\"linecolor\":\"white\",\"ticks\":\"\"}},\"coloraxis\":{\"colorbar\":{\"outlinewidth\":0,\"ticks\":\"\"}},\"colorscale\":{\"sequential\":[[0.0,\"#0d0887\"],[0.1111111111111111,\"#46039f\"],[0.2222222222222222,\"#7201a8\"],[0.3333333333333333,\"#9c179e\"],[0.4444444444444444,\"#bd3786\"],[0.5555555555555556,\"#d8576b\"],[0.6666666666666666,\"#ed7953\"],[0.7777777777777778,\"#fb9f3a\"],[0.8888888888888888,\"#fdca26\"],[1.0,\"#f0f921\"]],\"sequentialminus\":[[0.0,\"#0d0887\"],[0.1111111111111111,\"#46039f\"],[0.2222222222222222,\"#7201a8\"],[0.3333333333333333,\"#9c179e\"],[0.4444444444444444,\"#bd3786\"],[0.5555555555555556,\"#d8576b\"],[0.6666666666666666,\"#ed7953\"],[0.7777777777777778,\"#fb9f3a\"],[0.8888888888888888,\"#fdca26\"],[1.0,\"#f0f921\"]],\"diverging\":[[0,\"#8e0152\"],[0.1,\"#c51b7d\"],[0.2,\"#de77ae\"],[0.3,\"#f1b6da\"],[0.4,\"#fde0ef\"],[0.5,\"#f7f7f7\"],[0.6,\"#e6f5d0\"],[0.7,\"#b8e186\"],[0.8,\"#7fbc41\"],[0.9,\"#4d9221\"],[1,\"#276419\"]]},\"xaxis\":{\"gridcolor\":\"white\",\"linecolor\":\"white\",\"ticks\":\"\",\"title\":{\"standoff\":15},\"zerolinecolor\":\"white\",\"automargin\":true,\"zerolinewidth\":2},\"yaxis\":{\"gridcolor\":\"white\",\"linecolor\":\"white\",\"ticks\":\"\",\"title\":{\"standoff\":15},\"zerolinecolor\":\"white\",\"automargin\":true,\"zerolinewidth\":2},\"scene\":{\"xaxis\":{\"backgroundcolor\":\"#E5ECF6\",\"gridcolor\":\"white\",\"linecolor\":\"white\",\"showbackground\":true,\"ticks\":\"\",\"zerolinecolor\":\"white\",\"gridwidth\":2},\"yaxis\":{\"backgroundcolor\":\"#E5ECF6\",\"gridcolor\":\"white\",\"linecolor\":\"white\",\"showbackground\":true,\"ticks\":\"\",\"zerolinecolor\":\"white\",\"gridwidth\":2},\"zaxis\":{\"backgroundcolor\":\"#E5ECF6\",\"gridcolor\":\"white\",\"linecolor\":\"white\",\"showbackground\":true,\"ticks\":\"\",\"zerolinecolor\":\"white\",\"gridwidth\":2}},\"shapedefaults\":{\"line\":{\"color\":\"#2a3f5f\"}},\"annotationdefaults\":{\"arrowcolor\":\"#2a3f5f\",\"arrowhead\":0,\"arrowwidth\":1},\"geo\":{\"bgcolor\":\"white\",\"landcolor\":\"#E5ECF6\",\"subunitcolor\":\"white\",\"showland\":true,\"showlakes\":true,\"lakecolor\":\"white\"},\"title\":{\"x\":0.05},\"mapbox\":{\"style\":\"light\"}}},\"margin\":{\"l\":0,\"r\":0,\"b\":0,\"t\":40},\"title\":{\"text\":\"Customer Segments based on RFM (3D Scatter Plot)\"},\"scene\":{\"xaxis\":{\"title\":{\"text\":\"Recency (Days)\"}},\"yaxis\":{\"title\":{\"text\":\"Frequency (Purchases)\"}},\"zaxis\":{\"title\":{\"text\":\"Monetary Value ($)\"}}}},                        {\"responsive\": true}                    ).then(function(){\n",
              "                            \n",
              "var gd = document.getElementById('57411089-6f69-4912-a4f8-fb06c9204982');\n",
              "var x = new MutationObserver(function (mutations, observer) {{\n",
              "        var display = window.getComputedStyle(gd).display;\n",
              "        if (!display || display === 'none') {{\n",
              "            console.log([gd, 'removed!']);\n",
              "            Plotly.purge(gd);\n",
              "            observer.disconnect();\n",
              "        }}\n",
              "}});\n",
              "\n",
              "// Listen for the removal of the full notebook cells\n",
              "var notebookContainer = gd.closest('#notebook-container');\n",
              "if (notebookContainer) {{\n",
              "    x.observe(notebookContainer, {childList: true});\n",
              "}}\n",
              "\n",
              "// Listen for the clearing of the current output cell\n",
              "var outputEl = gd.closest('.output');\n",
              "if (outputEl) {{\n",
              "    x.observe(outputEl, {childList: true});\n",
              "}}\n",
              "\n",
              "                        })                };                            </script>        </div>\n",
              "</body>\n",
              "</html>"
            ]
          },
          "metadata": {}
        }
      ]
    },
    {
      "cell_type": "code",
      "source": [],
      "metadata": {
        "id": "YoMyyLDZGIkP"
      },
      "execution_count": null,
      "outputs": []
    }
  ]
}